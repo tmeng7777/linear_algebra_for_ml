{
  "nbformat": 4,
  "nbformat_minor": 0,
  "metadata": {
    "colab": {
      "provenance": [],
      "authorship_tag": "ABX9TyPgvAWNsEfMjAgW7zOKPiUW",
      "include_colab_link": true
    },
    "kernelspec": {
      "name": "python3",
      "display_name": "Python 3"
    },
    "language_info": {
      "name": "python"
    }
  },
  "cells": [
    {
      "cell_type": "markdown",
      "metadata": {
        "id": "view-in-github",
        "colab_type": "text"
      },
      "source": [
        "<a href=\"https://colab.research.google.com/github/tmeng7777/linear_algebra_for_ml/blob/main/Intro_to_linear_algebra_(5th_edition)_homework_2_1_30.ipynb\" target=\"_parent\"><img src=\"https://colab.research.google.com/assets/colab-badge.svg\" alt=\"Open In Colab\"/></a>"
      ]
    },
    {
      "cell_type": "code",
      "execution_count": 16,
      "metadata": {
        "id": "6UlVGrZMINdZ"
      },
      "outputs": [],
      "source": [
        "import numpy as np"
      ]
    },
    {
      "cell_type": "code",
      "source": [
        "a = np.array([[.8, .3], [.2, .7]])\n",
        "b = np.array([[0.4], [0.9]])"
      ],
      "metadata": {
        "id": "91QHAsjhIPi-"
      },
      "execution_count": 58,
      "outputs": []
    },
    {
      "cell_type": "code",
      "source": [
        "x = x0 = b"
      ],
      "metadata": {
        "id": "j0EM70HBIVE_"
      },
      "execution_count": 59,
      "outputs": []
    },
    {
      "cell_type": "code",
      "source": [
        "N = 50 # number of iterations\n",
        "dim = 2\n",
        "results = np.zeros((N, dim))\n",
        "results[0, :] = x.reshape(1, -1).copy()\n",
        "for i in range(1, N):\n",
        "  x = np.matmul(a, x)\n",
        "  print(\"x_\",i, \"=\", x, '\\n')\n",
        "  results[i, 0] = x[0]\n",
        "  results[i, 1] = x[1]\n"
      ],
      "metadata": {
        "colab": {
          "base_uri": "https://localhost:8080/"
        },
        "id": "4ngXmpOZIpiO",
        "outputId": "612cf9a9-abc0-415b-8ff4-2cc2a1003a46"
      },
      "execution_count": 60,
      "outputs": [
        {
          "output_type": "stream",
          "name": "stdout",
          "text": [
            "x_ 1 = [[0.59]\n",
            " [0.71]] \n",
            "\n",
            "x_ 2 = [[0.685]\n",
            " [0.615]] \n",
            "\n",
            "x_ 3 = [[0.7325]\n",
            " [0.5675]] \n",
            "\n",
            "x_ 4 = [[0.75625]\n",
            " [0.54375]] \n",
            "\n",
            "x_ 5 = [[0.768125]\n",
            " [0.531875]] \n",
            "\n",
            "x_ 6 = [[0.7740625]\n",
            " [0.5259375]] \n",
            "\n",
            "x_ 7 = [[0.77703125]\n",
            " [0.52296875]] \n",
            "\n",
            "x_ 8 = [[0.77851563]\n",
            " [0.52148438]] \n",
            "\n",
            "x_ 9 = [[0.77925781]\n",
            " [0.52074219]] \n",
            "\n",
            "x_ 10 = [[0.77962891]\n",
            " [0.52037109]] \n",
            "\n",
            "x_ 11 = [[0.77981445]\n",
            " [0.52018555]] \n",
            "\n",
            "x_ 12 = [[0.77990723]\n",
            " [0.52009277]] \n",
            "\n",
            "x_ 13 = [[0.77995361]\n",
            " [0.52004639]] \n",
            "\n",
            "x_ 14 = [[0.77997681]\n",
            " [0.52002319]] \n",
            "\n",
            "x_ 15 = [[0.7799884]\n",
            " [0.5200116]] \n",
            "\n",
            "x_ 16 = [[0.7799942]\n",
            " [0.5200058]] \n",
            "\n",
            "x_ 17 = [[0.7799971]\n",
            " [0.5200029]] \n",
            "\n",
            "x_ 18 = [[0.77999855]\n",
            " [0.52000145]] \n",
            "\n",
            "x_ 19 = [[0.77999928]\n",
            " [0.52000072]] \n",
            "\n",
            "x_ 20 = [[0.77999964]\n",
            " [0.52000036]] \n",
            "\n",
            "x_ 21 = [[0.77999982]\n",
            " [0.52000018]] \n",
            "\n",
            "x_ 22 = [[0.77999991]\n",
            " [0.52000009]] \n",
            "\n",
            "x_ 23 = [[0.77999995]\n",
            " [0.52000005]] \n",
            "\n",
            "x_ 24 = [[0.77999998]\n",
            " [0.52000002]] \n",
            "\n",
            "x_ 25 = [[0.77999999]\n",
            " [0.52000001]] \n",
            "\n",
            "x_ 26 = [[0.77999999]\n",
            " [0.52000001]] \n",
            "\n",
            "x_ 27 = [[0.78]\n",
            " [0.52]] \n",
            "\n",
            "x_ 28 = [[0.78]\n",
            " [0.52]] \n",
            "\n",
            "x_ 29 = [[0.78]\n",
            " [0.52]] \n",
            "\n",
            "x_ 30 = [[0.78]\n",
            " [0.52]] \n",
            "\n",
            "x_ 31 = [[0.78]\n",
            " [0.52]] \n",
            "\n",
            "x_ 32 = [[0.78]\n",
            " [0.52]] \n",
            "\n",
            "x_ 33 = [[0.78]\n",
            " [0.52]] \n",
            "\n",
            "x_ 34 = [[0.78]\n",
            " [0.52]] \n",
            "\n",
            "x_ 35 = [[0.78]\n",
            " [0.52]] \n",
            "\n",
            "x_ 36 = [[0.78]\n",
            " [0.52]] \n",
            "\n",
            "x_ 37 = [[0.78]\n",
            " [0.52]] \n",
            "\n",
            "x_ 38 = [[0.78]\n",
            " [0.52]] \n",
            "\n",
            "x_ 39 = [[0.78]\n",
            " [0.52]] \n",
            "\n",
            "x_ 40 = [[0.78]\n",
            " [0.52]] \n",
            "\n",
            "x_ 41 = [[0.78]\n",
            " [0.52]] \n",
            "\n",
            "x_ 42 = [[0.78]\n",
            " [0.52]] \n",
            "\n",
            "x_ 43 = [[0.78]\n",
            " [0.52]] \n",
            "\n",
            "x_ 44 = [[0.78]\n",
            " [0.52]] \n",
            "\n",
            "x_ 45 = [[0.78]\n",
            " [0.52]] \n",
            "\n",
            "x_ 46 = [[0.78]\n",
            " [0.52]] \n",
            "\n",
            "x_ 47 = [[0.78]\n",
            " [0.52]] \n",
            "\n",
            "x_ 48 = [[0.78]\n",
            " [0.52]] \n",
            "\n",
            "x_ 49 = [[0.78]\n",
            " [0.52]] \n",
            "\n"
          ]
        }
      ]
    },
    {
      "cell_type": "code",
      "source": [
        "results"
      ],
      "metadata": {
        "colab": {
          "base_uri": "https://localhost:8080/"
        },
        "id": "OeSsfdiUJC0o",
        "outputId": "89a426b1-c1db-4c02-e183-c4b26c182c0f"
      },
      "execution_count": 61,
      "outputs": [
        {
          "output_type": "execute_result",
          "data": {
            "text/plain": [
              "array([[0.4       , 0.9       ],\n",
              "       [0.59      , 0.71      ],\n",
              "       [0.685     , 0.615     ],\n",
              "       [0.7325    , 0.5675    ],\n",
              "       [0.75625   , 0.54375   ],\n",
              "       [0.768125  , 0.531875  ],\n",
              "       [0.7740625 , 0.5259375 ],\n",
              "       [0.77703125, 0.52296875],\n",
              "       [0.77851563, 0.52148438],\n",
              "       [0.77925781, 0.52074219],\n",
              "       [0.77962891, 0.52037109],\n",
              "       [0.77981445, 0.52018555],\n",
              "       [0.77990723, 0.52009277],\n",
              "       [0.77995361, 0.52004639],\n",
              "       [0.77997681, 0.52002319],\n",
              "       [0.7799884 , 0.5200116 ],\n",
              "       [0.7799942 , 0.5200058 ],\n",
              "       [0.7799971 , 0.5200029 ],\n",
              "       [0.77999855, 0.52000145],\n",
              "       [0.77999928, 0.52000072],\n",
              "       [0.77999964, 0.52000036],\n",
              "       [0.77999982, 0.52000018],\n",
              "       [0.77999991, 0.52000009],\n",
              "       [0.77999995, 0.52000005],\n",
              "       [0.77999998, 0.52000002],\n",
              "       [0.77999999, 0.52000001],\n",
              "       [0.77999999, 0.52000001],\n",
              "       [0.78      , 0.52      ],\n",
              "       [0.78      , 0.52      ],\n",
              "       [0.78      , 0.52      ],\n",
              "       [0.78      , 0.52      ],\n",
              "       [0.78      , 0.52      ],\n",
              "       [0.78      , 0.52      ],\n",
              "       [0.78      , 0.52      ],\n",
              "       [0.78      , 0.52      ],\n",
              "       [0.78      , 0.52      ],\n",
              "       [0.78      , 0.52      ],\n",
              "       [0.78      , 0.52      ],\n",
              "       [0.78      , 0.52      ],\n",
              "       [0.78      , 0.52      ],\n",
              "       [0.78      , 0.52      ],\n",
              "       [0.78      , 0.52      ],\n",
              "       [0.78      , 0.52      ],\n",
              "       [0.78      , 0.52      ],\n",
              "       [0.78      , 0.52      ],\n",
              "       [0.78      , 0.52      ],\n",
              "       [0.78      , 0.52      ],\n",
              "       [0.78      , 0.52      ],\n",
              "       [0.78      , 0.52      ],\n",
              "       [0.78      , 0.52      ]])"
            ]
          },
          "metadata": {},
          "execution_count": 61
        }
      ]
    },
    {
      "cell_type": "code",
      "source": [
        "# plot the results in two curves\n",
        "import matplotlib.pyplot as plt"
      ],
      "metadata": {
        "id": "serTQ5KxLEXF"
      },
      "execution_count": 62,
      "outputs": []
    },
    {
      "cell_type": "code",
      "source": [
        "# plot as two columns\n",
        "def plot_figure(results):\n",
        "  column1 = results[:, 0]\n",
        "  column2 = results[:, 1]\n",
        "\n",
        "  # Plotting with different colors\n",
        "  plt.plot(column1, label='x_1', color='blue')\n",
        "  plt.plot(column2, label='x_2', color='green')\n",
        "\n",
        "  # Adding labels and legend\n",
        "  plt.xlabel('num iterations')\n",
        "  plt.ylabel('value')\n",
        "  plt.title('Plot of vector subdimensions')\n",
        "  plt.legend()\n",
        "\n",
        "  # Display the plot\n",
        "  plt.show()"
      ],
      "metadata": {
        "id": "u5srGZBxMN0y"
      },
      "execution_count": 63,
      "outputs": []
    },
    {
      "cell_type": "code",
      "source": [
        "plot_figure(results)"
      ],
      "metadata": {
        "colab": {
          "base_uri": "https://localhost:8080/",
          "height": 472
        },
        "id": "V6I-vRJ2Mk3d",
        "outputId": "8d37c5e2-e65e-4862-9899-a3cc5390a3ee"
      },
      "execution_count": 64,
      "outputs": [
        {
          "output_type": "display_data",
          "data": {
            "text/plain": [
              "<Figure size 640x480 with 1 Axes>"
            ],
            "image/png": "[encoded data removed]"
          },
          "metadata": {}
        }
      ]
    },
    {
      "cell_type": "code",
      "source": [
        "print(results)"
      ],
      "metadata": {
        "colab": {
          "base_uri": "https://localhost:8080/"
        },
        "id": "ulPM4wVNMy6D",
        "outputId": "ec9f16d5-32a3-49b3-9ed7-59b36f3e068c"
      },
      "execution_count": 57,
      "outputs": [
        {
          "output_type": "stream",
          "name": "stdout",
          "text": [
            "[[0.77925781 0.52074219]\n",
            " [0.77962891 0.52037109]\n",
            " [0.77981445 0.52018555]\n",
            " [0.77990723 0.52009277]\n",
            " [0.77995361 0.52004639]\n",
            " [0.77997681 0.52002319]\n",
            " [0.7799884  0.5200116 ]\n",
            " [0.7799942  0.5200058 ]\n",
            " [0.7799971  0.5200029 ]\n",
            " [0.77999855 0.52000145]\n",
            " [0.77999928 0.52000072]\n",
            " [0.77999964 0.52000036]\n",
            " [0.77999982 0.52000018]\n",
            " [0.77999991 0.52000009]\n",
            " [0.77999995 0.52000005]\n",
            " [0.77999998 0.52000002]\n",
            " [0.77999999 0.52000001]\n",
            " [0.77999999 0.52000001]\n",
            " [0.78       0.52      ]\n",
            " [0.78       0.52      ]\n",
            " [0.78       0.52      ]\n",
            " [0.78       0.52      ]\n",
            " [0.78       0.52      ]\n",
            " [0.78       0.52      ]\n",
            " [0.78       0.52      ]\n",
            " [0.78       0.52      ]\n",
            " [0.78       0.52      ]\n",
            " [0.78       0.52      ]\n",
            " [0.78       0.52      ]\n",
            " [0.78       0.52      ]\n",
            " [0.78       0.52      ]\n",
            " [0.78       0.52      ]\n",
            " [0.78       0.52      ]\n",
            " [0.78       0.52      ]\n",
            " [0.78       0.52      ]\n",
            " [0.78       0.52      ]\n",
            " [0.78       0.52      ]\n",
            " [0.78       0.52      ]\n",
            " [0.78       0.52      ]\n",
            " [0.78       0.52      ]\n",
            " [0.78       0.52      ]\n",
            " [0.78       0.52      ]\n",
            " [0.78       0.52      ]\n",
            " [0.78       0.52      ]\n",
            " [0.78       0.52      ]\n",
            " [0.78       0.52      ]\n",
            " [0.78       0.52      ]\n",
            " [0.78       0.52      ]\n",
            " [0.78       0.52      ]\n",
            " [0.78       0.52      ]]\n"
          ]
        }
      ]
    },
    {
      "cell_type": "code",
      "source": [],
      "metadata": {
        "id": "ECP0hdQPM5F6"
      },
      "execution_count": null,
      "outputs": []
    }
  ]
}